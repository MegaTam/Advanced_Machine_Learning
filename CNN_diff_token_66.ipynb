{
 "cells": [
  {
   "cell_type": "code",
   "execution_count": 13,
   "id": "8dede428-6855-4abd-bbf1-c8024d7cc1f1",
   "metadata": {},
   "outputs": [],
   "source": [
    "import pandas as pd\n",
    "import numpy as np\n",
    "import keras\n",
    "from keras.layers import Embedding, Conv1D, GlobalMaxPooling1D, Dense, Dropout, GlobalAvgPool1D\n",
    "from keras.preprocessing.text import Tokenizer\n",
    "# from keras._tf_keras.keras.preprocessing.text import Tokenizer\n",
    "from keras.preprocessing.sequence import pad_sequences\n",
    "from keras.models import Sequential\n",
    "from keras.layers import Dense, Embedding, Conv1D, GlobalMaxPooling1D\n",
    "from keras import metrics"
   ]
  },
  {
   "cell_type": "code",
   "execution_count": 9,
   "id": "0354599d-2ecf-41ee-96de-828f3c0e0b4f",
   "metadata": {},
   "outputs": [],
   "source": [
    "'''Step1 Data Processing'''\n",
    "# Read the data.csv file into data frame\n",
    "data_df = pd.read_csv(\"processed_data.csv\", encoding='unicode_escape')\n",
    "data1 = data_df.loc[:, \"text\"]        # content\n",
    "data2 = data_df.loc[:, \"generated\"]   # labels\n",
    "data_new = pd.concat([data1, data2], axis=1)\n",
    "# print(data_new)\n",
    "\n",
    "# Split the input data and label into train and test ones\n",
    "def split_train_test(input_data, ratio_test):\n",
    "    np.random.seed(314)\n",
    "    # Randomly shuffle the order of the data points\n",
    "    shuffled_indices = np.random.permutation(len(input_data))\n",
    "    test_size = int(len(input_data) * ratio_test)\n",
    "    test_indices = shuffled_indices[:test_size]\n",
    "    train_indices = shuffled_indices[test_size:]\n",
    "    return input_data.iloc[train_indices], input_data.iloc[test_indices]\n",
    "\n",
    "# Split the data and labels into training and testing\n",
    "train_data, test_data = split_train_test(data1, 0.2)\n",
    "train_label, test_label = split_train_test(data2, 0.2)\n",
    "\n",
    "# The input data is the text in format of string\n",
    "texts_train = train_data.astype(str)\n",
    "texts_test = test_data.astype(str)"
   ]
  },
  {
   "cell_type": "code",
   "execution_count": 10,
   "id": "a7e2cf75-50db-409f-8e13-89afcdcf3aab",
   "metadata": {},
   "outputs": [],
   "source": [
    "# change the text and label into the numerical format\n",
    "tokenizer_train = Tokenizer()\n",
    "tokenizer_train.fit_on_texts(texts_train)\n",
    "sequences_train = tokenizer_train.texts_to_sequences(texts_train)\n",
    "# print(sequences_train)\n",
    "tokenizer_test = Tokenizer()\n",
    "tokenizer_test.fit_on_texts(texts_test)\n",
    "sequences_test = tokenizer_test.texts_to_sequences(texts_test)\n",
    "# print(sequences_test)\n",
    "\n",
    "# padding the sequence into the same length\n",
    "data_train = pad_sequences(sequences_train)\n",
    "# print(data_train)\n",
    "data_test = pad_sequences(sequences_test)\n",
    "# print(data_test)"
   ]
  },
  {
   "cell_type": "code",
   "execution_count": 11,
   "id": "1971ff2d-e621-4680-b288-8a795803f3a2",
   "metadata": {},
   "outputs": [
    {
     "name": "stderr",
     "output_type": "stream",
     "text": [
      "C:\\Users\\mega_tam\\AppData\\Local\\Programs\\Python\\Python310\\lib\\site-packages\\keras\\src\\layers\\core\\embedding.py:86: UserWarning: Argument `input_length` is deprecated. Just remove it.\n",
      "  warnings.warn(\n"
     ]
    }
   ],
   "source": [
    "'''Step2: Convolutional Neural Network (CNN)'''\n",
    "# the size of vocabulary list\n",
    "vocab_size = len(data_train)\n",
    "# the dimension of words after embedding\n",
    "embedding_dim = 128\n",
    "# the maximum number of words of each input line\n",
    "max_length = 100 # longer part will be thrown, shorter part will be assigned as 0\n",
    "\n",
    "# initialize the model\n",
    "# Model structure: \n",
    "model = Sequential([\n",
    "    # Embedding layer, transform the sequence into vectors\n",
    "    Embedding(vocab_size, embedding_dim,\n",
    "              input_length=max_length\n",
    "              ),\n",
    "    # 1-Dimension Convolution layers\n",
    "    # Conv1D(filters, kernel_size, padding='valid', activation=None)\n",
    "    Conv1D(256, 5, padding='same'\n",
    "           ),\n",
    "    GlobalMaxPooling1D(),\n",
    "    # Full-connected layer\n",
    "    # Dense(units, activation=None)\n",
    "    # Output layer\n",
    "    Dense(1,\n",
    "          activation='sigmoid'\n",
    "          )\n",
    "    ])"
   ]
  },
  {
   "cell_type": "code",
   "execution_count": 14,
   "id": "34409a9b-7eb9-479b-9d1c-2b934077584f",
   "metadata": {},
   "outputs": [
    {
     "name": "stdout",
     "output_type": "stream",
     "text": [
      "Epoch 1/2\n",
      "\u001b[1m583/583\u001b[0m \u001b[32m━━━━━━━━━━━━━━━━━━━━\u001b[0m\u001b[37m\u001b[0m \u001b[1m44s\u001b[0m 74ms/step - accuracy: 0.8743 - loss: 0.2437 - precision: 0.9213 - recall: 0.7027 - val_accuracy: 0.9863 - val_loss: 0.0429 - val_precision: 0.9787 - val_recall: 0.9871\n",
      "Epoch 2/2\n",
      "\u001b[1m583/583\u001b[0m \u001b[32m━━━━━━━━━━━━━━━━━━━━\u001b[0m\u001b[37m\u001b[0m \u001b[1m47s\u001b[0m 81ms/step - accuracy: 0.9950 - loss: 0.0169 - precision: 0.9936 - recall: 0.9937 - val_accuracy: 0.9863 - val_loss: 0.0447 - val_precision: 0.9711 - val_recall: 0.9952\n"
     ]
    },
    {
     "data": {
      "text/html": [
       "<pre style=\"white-space:pre;overflow-x:auto;line-height:normal;font-family:Menlo,'DejaVu Sans Mono',consolas,'Courier New',monospace\"><span style=\"font-weight: bold\">Model: \"sequential_1\"</span>\n",
       "</pre>\n"
      ],
      "text/plain": [
       "\u001b[1mModel: \"sequential_1\"\u001b[0m\n"
      ]
     },
     "metadata": {},
     "output_type": "display_data"
    },
    {
     "data": {
      "text/html": [
       "<pre style=\"white-space:pre;overflow-x:auto;line-height:normal;font-family:Menlo,'DejaVu Sans Mono',consolas,'Courier New',monospace\">┏━━━━━━━━━━━━━━━━━━━━━━━━━━━━━━━━━━━━━━┳━━━━━━━━━━━━━━━━━━━━━━━━━━━━━┳━━━━━━━━━━━━━━━━━┓\n",
       "┃<span style=\"font-weight: bold\"> Layer (type)                         </span>┃<span style=\"font-weight: bold\"> Output Shape                </span>┃<span style=\"font-weight: bold\">         Param # </span>┃\n",
       "┡━━━━━━━━━━━━━━━━━━━━━━━━━━━━━━━━━━━━━━╇━━━━━━━━━━━━━━━━━━━━━━━━━━━━━╇━━━━━━━━━━━━━━━━━┩\n",
       "│ embedding_1 (<span style=\"color: #0087ff; text-decoration-color: #0087ff\">Embedding</span>)              │ (<span style=\"color: #00d7ff; text-decoration-color: #00d7ff\">None</span>, <span style=\"color: #00af00; text-decoration-color: #00af00\">880</span>, <span style=\"color: #00af00; text-decoration-color: #00af00\">128</span>)            │       <span style=\"color: #00af00; text-decoration-color: #00af00\">2,983,296</span> │\n",
       "├──────────────────────────────────────┼─────────────────────────────┼─────────────────┤\n",
       "│ conv1d_1 (<span style=\"color: #0087ff; text-decoration-color: #0087ff\">Conv1D</span>)                    │ (<span style=\"color: #00d7ff; text-decoration-color: #00d7ff\">None</span>, <span style=\"color: #00af00; text-decoration-color: #00af00\">880</span>, <span style=\"color: #00af00; text-decoration-color: #00af00\">256</span>)            │         <span style=\"color: #00af00; text-decoration-color: #00af00\">164,096</span> │\n",
       "├──────────────────────────────────────┼─────────────────────────────┼─────────────────┤\n",
       "│ global_max_pooling1d_1               │ (<span style=\"color: #00d7ff; text-decoration-color: #00d7ff\">None</span>, <span style=\"color: #00af00; text-decoration-color: #00af00\">256</span>)                 │               <span style=\"color: #00af00; text-decoration-color: #00af00\">0</span> │\n",
       "│ (<span style=\"color: #0087ff; text-decoration-color: #0087ff\">GlobalMaxPooling1D</span>)                 │                             │                 │\n",
       "├──────────────────────────────────────┼─────────────────────────────┼─────────────────┤\n",
       "│ dense_1 (<span style=\"color: #0087ff; text-decoration-color: #0087ff\">Dense</span>)                      │ (<span style=\"color: #00d7ff; text-decoration-color: #00d7ff\">None</span>, <span style=\"color: #00af00; text-decoration-color: #00af00\">1</span>)                   │             <span style=\"color: #00af00; text-decoration-color: #00af00\">257</span> │\n",
       "└──────────────────────────────────────┴─────────────────────────────┴─────────────────┘\n",
       "</pre>\n"
      ],
      "text/plain": [
       "┏━━━━━━━━━━━━━━━━━━━━━━━━━━━━━━━━━━━━━━┳━━━━━━━━━━━━━━━━━━━━━━━━━━━━━┳━━━━━━━━━━━━━━━━━┓\n",
       "┃\u001b[1m \u001b[0m\u001b[1mLayer (type)                        \u001b[0m\u001b[1m \u001b[0m┃\u001b[1m \u001b[0m\u001b[1mOutput Shape               \u001b[0m\u001b[1m \u001b[0m┃\u001b[1m \u001b[0m\u001b[1m        Param #\u001b[0m\u001b[1m \u001b[0m┃\n",
       "┡━━━━━━━━━━━━━━━━━━━━━━━━━━━━━━━━━━━━━━╇━━━━━━━━━━━━━━━━━━━━━━━━━━━━━╇━━━━━━━━━━━━━━━━━┩\n",
       "│ embedding_1 (\u001b[38;5;33mEmbedding\u001b[0m)              │ (\u001b[38;5;45mNone\u001b[0m, \u001b[38;5;34m880\u001b[0m, \u001b[38;5;34m128\u001b[0m)            │       \u001b[38;5;34m2,983,296\u001b[0m │\n",
       "├──────────────────────────────────────┼─────────────────────────────┼─────────────────┤\n",
       "│ conv1d_1 (\u001b[38;5;33mConv1D\u001b[0m)                    │ (\u001b[38;5;45mNone\u001b[0m, \u001b[38;5;34m880\u001b[0m, \u001b[38;5;34m256\u001b[0m)            │         \u001b[38;5;34m164,096\u001b[0m │\n",
       "├──────────────────────────────────────┼─────────────────────────────┼─────────────────┤\n",
       "│ global_max_pooling1d_1               │ (\u001b[38;5;45mNone\u001b[0m, \u001b[38;5;34m256\u001b[0m)                 │               \u001b[38;5;34m0\u001b[0m │\n",
       "│ (\u001b[38;5;33mGlobalMaxPooling1D\u001b[0m)                 │                             │                 │\n",
       "├──────────────────────────────────────┼─────────────────────────────┼─────────────────┤\n",
       "│ dense_1 (\u001b[38;5;33mDense\u001b[0m)                      │ (\u001b[38;5;45mNone\u001b[0m, \u001b[38;5;34m1\u001b[0m)                   │             \u001b[38;5;34m257\u001b[0m │\n",
       "└──────────────────────────────────────┴─────────────────────────────┴─────────────────┘\n"
      ]
     },
     "metadata": {},
     "output_type": "display_data"
    },
    {
     "data": {
      "text/html": [
       "<pre style=\"white-space:pre;overflow-x:auto;line-height:normal;font-family:Menlo,'DejaVu Sans Mono',consolas,'Courier New',monospace\"><span style=\"font-weight: bold\"> Total params: </span><span style=\"color: #00af00; text-decoration-color: #00af00\">9,442,949</span> (36.02 MB)\n",
       "</pre>\n"
      ],
      "text/plain": [
       "\u001b[1m Total params: \u001b[0m\u001b[38;5;34m9,442,949\u001b[0m (36.02 MB)\n"
      ]
     },
     "metadata": {},
     "output_type": "display_data"
    },
    {
     "data": {
      "text/html": [
       "<pre style=\"white-space:pre;overflow-x:auto;line-height:normal;font-family:Menlo,'DejaVu Sans Mono',consolas,'Courier New',monospace\"><span style=\"font-weight: bold\"> Trainable params: </span><span style=\"color: #00af00; text-decoration-color: #00af00\">3,147,649</span> (12.01 MB)\n",
       "</pre>\n"
      ],
      "text/plain": [
       "\u001b[1m Trainable params: \u001b[0m\u001b[38;5;34m3,147,649\u001b[0m (12.01 MB)\n"
      ]
     },
     "metadata": {},
     "output_type": "display_data"
    },
    {
     "data": {
      "text/html": [
       "<pre style=\"white-space:pre;overflow-x:auto;line-height:normal;font-family:Menlo,'DejaVu Sans Mono',consolas,'Courier New',monospace\"><span style=\"font-weight: bold\"> Non-trainable params: </span><span style=\"color: #00af00; text-decoration-color: #00af00\">0</span> (0.00 B)\n",
       "</pre>\n"
      ],
      "text/plain": [
       "\u001b[1m Non-trainable params: \u001b[0m\u001b[38;5;34m0\u001b[0m (0.00 B)\n"
      ]
     },
     "metadata": {},
     "output_type": "display_data"
    },
    {
     "data": {
      "text/html": [
       "<pre style=\"white-space:pre;overflow-x:auto;line-height:normal;font-family:Menlo,'DejaVu Sans Mono',consolas,'Courier New',monospace\"><span style=\"font-weight: bold\"> Optimizer params: </span><span style=\"color: #00af00; text-decoration-color: #00af00\">6,295,300</span> (24.01 MB)\n",
       "</pre>\n"
      ],
      "text/plain": [
       "\u001b[1m Optimizer params: \u001b[0m\u001b[38;5;34m6,295,300\u001b[0m (24.01 MB)\n"
      ]
     },
     "metadata": {},
     "output_type": "display_data"
    },
    {
     "name": "stdout",
     "output_type": "stream",
     "text": [
      "\u001b[1m183/183\u001b[0m \u001b[32m━━━━━━━━━━━━━━━━━━━━\u001b[0m\u001b[37m\u001b[0m \u001b[1m4s\u001b[0m 19ms/step\n",
      "\u001b[1m183/183\u001b[0m \u001b[32m━━━━━━━━━━━━━━━━━━━━\u001b[0m\u001b[37m\u001b[0m \u001b[1m4s\u001b[0m 18ms/step - accuracy: 0.6387 - loss: 1.1827 - precision: 0.5424 - recall: 0.6915\n"
     ]
    },
    {
     "ename": "ValueError",
     "evalue": "too many values to unpack (expected 2)",
     "output_type": "error",
     "traceback": [
      "\u001b[1;31m---------------------------------------------------------------------------\u001b[0m",
      "\u001b[1;31mValueError\u001b[0m                                Traceback (most recent call last)",
      "Cell \u001b[1;32mIn[14], line 18\u001b[0m\n\u001b[0;32m     15\u001b[0m predict_result \u001b[38;5;241m=\u001b[39m model\u001b[38;5;241m.\u001b[39mpredict(data_test)   \u001b[38;5;66;03m# The classifying result of test data\u001b[39;00m\n\u001b[0;32m     16\u001b[0m \u001b[38;5;66;03m# print(type(predict_result[0]))\u001b[39;00m\n\u001b[0;32m     17\u001b[0m \u001b[38;5;66;03m# print(predict_result)\u001b[39;00m\n\u001b[1;32m---> 18\u001b[0m loss, acc \u001b[38;5;241m=\u001b[39m model\u001b[38;5;241m.\u001b[39mevaluate(data_test, test_label)\n\u001b[0;32m     19\u001b[0m \u001b[38;5;28mprint\u001b[39m(\u001b[38;5;124m\"\u001b[39m\u001b[38;5;124maccuracy: \u001b[39m\u001b[38;5;124m\"\u001b[39m, acc)\n\u001b[0;32m     20\u001b[0m \u001b[38;5;28mprint\u001b[39m(\u001b[38;5;124m\"\u001b[39m\u001b[38;5;124mloss: \u001b[39m\u001b[38;5;124m\"\u001b[39m, loss)\n",
      "\u001b[1;31mValueError\u001b[0m: too many values to unpack (expected 2)"
     ]
    }
   ],
   "source": [
    "# compiling the model\n",
    "model.compile(loss='binary_crossentropy',   # loss function\n",
    "              optimizer='adam',             # optimizer\n",
    "              metrics=['accuracy', keras.metrics.Precision(), keras.metrics.Recall()])         # assessment criteria\n",
    "\n",
    "# Train the CNN model\n",
    "model.fit(data_train, train_label,\n",
    "          epochs=2,                        # epoch is the training round\n",
    "          validation_split=0.2  # The ratio of evaluate set in training set\n",
    "          )\n",
    "# Get the summary of the CNN model\n",
    "model.summary()\n",
    "\n",
    "# test and evaluate the model, accacz = model.evaluate(data_test, test_label)\n",
    "predict_result = model.predict(data_test)   # The classifying result of test data\n",
    "# print(type(predict_result[0]))\n",
    "# print(predict_result)\n",
    "loss, acc = model.evaluate(data_test, test_label)\n",
    "print(\"accuracy: \", acc)\n",
    "print(\"loss: \", loss)\n",
    "\n",
    "length = len(test_label)\n",
    "# print(len(predict_result) == length)\n",
    "score = 0\n",
    "for i in range(length):\n",
    "    current = 0\n",
    "    if predict_result[i][0] > 0.5:\n",
    "        current = 1\n",
    "    if current == test_label.tolist()[i]:\n",
    "        score += 1\n",
    "print('Calculated accuracy: ', score/length)\n"
   ]
  },
  {
   "cell_type": "code",
   "execution_count": null,
   "id": "57d9df15-431a-4eda-9340-45d51fe012d0",
   "metadata": {},
   "outputs": [],
   "source": []
  }
 ],
 "metadata": {
  "kernelspec": {
   "display_name": "Python 3 (ipykernel)",
   "language": "python",
   "name": "python3"
  },
  "language_info": {
   "codemirror_mode": {
    "name": "ipython",
    "version": 3
   },
   "file_extension": ".py",
   "mimetype": "text/x-python",
   "name": "python",
   "nbconvert_exporter": "python",
   "pygments_lexer": "ipython3",
   "version": "3.10.5"
  }
 },
 "nbformat": 4,
 "nbformat_minor": 5
}
